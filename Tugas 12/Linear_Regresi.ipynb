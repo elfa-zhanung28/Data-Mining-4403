{
  "nbformat": 4,
  "nbformat_minor": 0,
  "metadata": {
    "colab": {
      "provenance": [],
      "toc_visible": true
    },
    "kernelspec": {
      "name": "python3",
      "display_name": "Python 3"
    },
    "language_info": {
      "name": "python"
    }
  },
  "cells": [
    {
      "cell_type": "code",
      "execution_count": null,
      "metadata": {
        "id": "Zvjj3m305Gvq"
      },
      "outputs": [],
      "source": [
        "from scipy import stats"
      ]
    },
    {
      "cell_type": "markdown",
      "source": [
        "import Library yang diperlukan Scipy"
      ],
      "metadata": {
        "id": "3aAe2fNL5OGU"
      }
    },
    {
      "cell_type": "code",
      "source": [
        "x = [5,4,6,5,5,5,6,6,2,7,7]"
      ],
      "metadata": {
        "id": "YhJhbjrq5eqm"
      },
      "execution_count": null,
      "outputs": []
    },
    {
      "cell_type": "markdown",
      "source": [
        "data x (data mobil dalam tahun)"
      ],
      "metadata": {
        "id": "Q4Suph6e53SE"
      }
    },
    {
      "cell_type": "code",
      "source": [
        "y = [85,103,70,82,89,98,66,95,169,70,48]"
      ],
      "metadata": {
        "id": "AjJZK0Pa6A-8"
      },
      "execution_count": null,
      "outputs": []
    },
    {
      "cell_type": "markdown",
      "source": [
        "daya y (data harga mobil dalam $)"
      ],
      "metadata": {
        "id": "tlo63hNY6PVv"
      }
    },
    {
      "cell_type": "code",
      "source": [
        "slope, intercept, r, p, std_err = stats.linregress(x,y)"
      ],
      "metadata": {
        "id": "LX6DqNdG6VWZ"
      },
      "execution_count": null,
      "outputs": []
    },
    {
      "cell_type": "code",
      "source": [
        "def myfunc(x):\n",
        "  return slope * x + intercept"
      ],
      "metadata": {
        "id": "N5A1pDjd6qXj"
      },
      "execution_count": null,
      "outputs": []
    },
    {
      "cell_type": "markdown",
      "source": [
        "membuat fungsi linear regresi"
      ],
      "metadata": {
        "id": "7qLHs9ro62Wl"
      }
    },
    {
      "cell_type": "code",
      "source": [
        "harga_mobil = myfunc(82)"
      ],
      "metadata": {
        "id": "kqUQgu727Bhk"
      },
      "execution_count": null,
      "outputs": []
    },
    {
      "cell_type": "code",
      "source": [
        "print(harga_mobil)"
      ],
      "metadata": {
        "colab": {
          "base_uri": "https://localhost:8080/"
        },
        "id": "aQ0d3Rzr8TQ5",
        "outputId": "7ff6682e-f3f7-41ea-8664-7cc8b1993ee4"
      },
      "execution_count": null,
      "outputs": [
        {
          "output_type": "stream",
          "name": "stdout",
          "text": [
            "-1465.9549549549547\n"
          ]
        }
      ]
    }
  ]
}